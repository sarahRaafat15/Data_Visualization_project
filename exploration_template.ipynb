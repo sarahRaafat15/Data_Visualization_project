{
 "cells": [
  {
   "cell_type": "markdown",
   "metadata": {},
   "source": [
    "# FORD GO BIKE Exploration \n",
    "## by Sara Raafat\n",
    "\n",
    "\n",
    "This data set includes information about individual rides made in a bike-sharing system covering the greater San Francisco Bay area.Each trip is anonymized and includes:\n",
    "\n",
    "Trip Duration (seconds)                                                                                                         \n",
    "Start Time and Date                                                                                                            \n",
    "End Time and Date                                                                                                              \n",
    "Start Station ID                                                                                                              \n",
    "Start Station Name                                                                                                             \n",
    "Start Station Latitude                                                                                                         \n",
    "Start Station Longitude                                                                                                        \n",
    "End Station ID                                                                                                                 \n",
    "End Station Name                                                                                                               \n",
    "End Station Latitude                                                                                                           \n",
    "End Station Longitude                                                                                                          \n",
    "Bike ID                                                                                                                         \n",
    "User Type (Subscriber or Customer – “Subscriber” = Member or “Customer” = Casual)\n",
    "## Preliminary Wrangling"
   ]
  },
  {
   "cell_type": "code",
   "execution_count": 1,
   "metadata": {},
   "outputs": [],
   "source": [
    "# import all packages and set plots to be embedded inline\n",
    "import numpy as np\n",
    "import pandas as pd\n",
    "import matplotlib.pyplot as plt\n",
    "import seaborn as sb\n",
    "\n",
    "%matplotlib inline"
   ]
  },
  {
   "cell_type": "markdown",
   "metadata": {},
   "source": [
    "> Load in your dataset and describe its properties through the questions below.\n",
    "Try and motivate your exploration goals through this section."
   ]
  },
  {
   "cell_type": "code",
   "execution_count": 2,
   "metadata": {},
   "outputs": [
    {
     "name": "stderr",
     "output_type": "stream",
     "text": [
      "E:\\Anaconda\\lib\\site-packages\\IPython\\core\\interactiveshell.py:3063: DtypeWarning: Columns (13) have mixed types.Specify dtype option on import or set low_memory=False.\n",
      "  interactivity=interactivity, compiler=compiler, result=result)\n"
     ]
    },
    {
     "data": {
      "text/html": [
       "<div>\n",
       "<style scoped>\n",
       "    .dataframe tbody tr th:only-of-type {\n",
       "        vertical-align: middle;\n",
       "    }\n",
       "\n",
       "    .dataframe tbody tr th {\n",
       "        vertical-align: top;\n",
       "    }\n",
       "\n",
       "    .dataframe thead th {\n",
       "        text-align: right;\n",
       "    }\n",
       "</style>\n",
       "<table border=\"1\" class=\"dataframe\">\n",
       "  <thead>\n",
       "    <tr style=\"text-align: right;\">\n",
       "      <th></th>\n",
       "      <th>duration_sec</th>\n",
       "      <th>start_time</th>\n",
       "      <th>end_time</th>\n",
       "      <th>start_station_id</th>\n",
       "      <th>start_station_name</th>\n",
       "      <th>start_station_latitude</th>\n",
       "      <th>start_station_longitude</th>\n",
       "      <th>end_station_id</th>\n",
       "      <th>end_station_name</th>\n",
       "      <th>end_station_latitude</th>\n",
       "      <th>end_station_longitude</th>\n",
       "      <th>bike_id</th>\n",
       "      <th>user_type</th>\n",
       "      <th>rental_access_method</th>\n",
       "    </tr>\n",
       "  </thead>\n",
       "  <tbody>\n",
       "    <tr>\n",
       "      <th>0</th>\n",
       "      <td>66600</td>\n",
       "      <td>2019-12-31 14:28:50.2860</td>\n",
       "      <td>2020-01-01 08:58:51.2500</td>\n",
       "      <td>364.0</td>\n",
       "      <td>China Basin St at 3rd St</td>\n",
       "      <td>37.772000</td>\n",
       "      <td>-122.389970</td>\n",
       "      <td>349.0</td>\n",
       "      <td>Howard St at Mary St</td>\n",
       "      <td>37.781010</td>\n",
       "      <td>-122.405666</td>\n",
       "      <td>12085</td>\n",
       "      <td>Customer</td>\n",
       "      <td>NaN</td>\n",
       "    </tr>\n",
       "    <tr>\n",
       "      <th>1</th>\n",
       "      <td>36526</td>\n",
       "      <td>2019-12-31 21:52:47.7620</td>\n",
       "      <td>2020-01-01 08:01:33.9320</td>\n",
       "      <td>38.0</td>\n",
       "      <td>The Embarcadero at Pier 38</td>\n",
       "      <td>37.782926</td>\n",
       "      <td>-122.387921</td>\n",
       "      <td>410.0</td>\n",
       "      <td>Illinois St at Cesar Chavez St</td>\n",
       "      <td>37.750200</td>\n",
       "      <td>-122.386567</td>\n",
       "      <td>9477</td>\n",
       "      <td>Customer</td>\n",
       "      <td>NaN</td>\n",
       "    </tr>\n",
       "    <tr>\n",
       "      <th>2</th>\n",
       "      <td>8164</td>\n",
       "      <td>2019-12-31 23:50:04.8770</td>\n",
       "      <td>2020-01-01 02:06:09.4140</td>\n",
       "      <td>14.0</td>\n",
       "      <td>Clay St at Battery St</td>\n",
       "      <td>37.795001</td>\n",
       "      <td>-122.399970</td>\n",
       "      <td>6.0</td>\n",
       "      <td>The Embarcadero at Sansome St</td>\n",
       "      <td>37.804770</td>\n",
       "      <td>-122.403234</td>\n",
       "      <td>10420</td>\n",
       "      <td>Customer</td>\n",
       "      <td>NaN</td>\n",
       "    </tr>\n",
       "    <tr>\n",
       "      <th>3</th>\n",
       "      <td>8163</td>\n",
       "      <td>2019-12-31 23:49:21.4000</td>\n",
       "      <td>2020-01-01 02:05:24.6670</td>\n",
       "      <td>14.0</td>\n",
       "      <td>Clay St at Battery St</td>\n",
       "      <td>37.795001</td>\n",
       "      <td>-122.399970</td>\n",
       "      <td>6.0</td>\n",
       "      <td>The Embarcadero at Sansome St</td>\n",
       "      <td>37.804770</td>\n",
       "      <td>-122.403234</td>\n",
       "      <td>2065</td>\n",
       "      <td>Customer</td>\n",
       "      <td>NaN</td>\n",
       "    </tr>\n",
       "    <tr>\n",
       "      <th>4</th>\n",
       "      <td>6847</td>\n",
       "      <td>2019-12-31 22:51:05.6850</td>\n",
       "      <td>2020-01-01 00:45:13.4860</td>\n",
       "      <td>3.0</td>\n",
       "      <td>Powell St BART Station (Market St at 4th St)</td>\n",
       "      <td>37.786375</td>\n",
       "      <td>-122.404904</td>\n",
       "      <td>363.0</td>\n",
       "      <td>Salesforce Transit Center (Natoma St at 2nd St)</td>\n",
       "      <td>37.787492</td>\n",
       "      <td>-122.398285</td>\n",
       "      <td>10219</td>\n",
       "      <td>Customer</td>\n",
       "      <td>NaN</td>\n",
       "    </tr>\n",
       "  </tbody>\n",
       "</table>\n",
       "</div>"
      ],
      "text/plain": [
       "   duration_sec                start_time                  end_time  \\\n",
       "0         66600  2019-12-31 14:28:50.2860  2020-01-01 08:58:51.2500   \n",
       "1         36526  2019-12-31 21:52:47.7620  2020-01-01 08:01:33.9320   \n",
       "2          8164  2019-12-31 23:50:04.8770  2020-01-01 02:06:09.4140   \n",
       "3          8163  2019-12-31 23:49:21.4000  2020-01-01 02:05:24.6670   \n",
       "4          6847  2019-12-31 22:51:05.6850  2020-01-01 00:45:13.4860   \n",
       "\n",
       "   start_station_id                            start_station_name  \\\n",
       "0             364.0                      China Basin St at 3rd St   \n",
       "1              38.0                    The Embarcadero at Pier 38   \n",
       "2              14.0                         Clay St at Battery St   \n",
       "3              14.0                         Clay St at Battery St   \n",
       "4               3.0  Powell St BART Station (Market St at 4th St)   \n",
       "\n",
       "   start_station_latitude  start_station_longitude  end_station_id  \\\n",
       "0               37.772000              -122.389970           349.0   \n",
       "1               37.782926              -122.387921           410.0   \n",
       "2               37.795001              -122.399970             6.0   \n",
       "3               37.795001              -122.399970             6.0   \n",
       "4               37.786375              -122.404904           363.0   \n",
       "\n",
       "                                  end_station_name  end_station_latitude  \\\n",
       "0                             Howard St at Mary St             37.781010   \n",
       "1                   Illinois St at Cesar Chavez St             37.750200   \n",
       "2                    The Embarcadero at Sansome St             37.804770   \n",
       "3                    The Embarcadero at Sansome St             37.804770   \n",
       "4  Salesforce Transit Center (Natoma St at 2nd St)             37.787492   \n",
       "\n",
       "   end_station_longitude  bike_id user_type rental_access_method  \n",
       "0            -122.405666    12085  Customer                  NaN  \n",
       "1            -122.386567     9477  Customer                  NaN  \n",
       "2            -122.403234    10420  Customer                  NaN  \n",
       "3            -122.403234     2065  Customer                  NaN  \n",
       "4            -122.398285    10219  Customer                  NaN  "
      ]
     },
     "execution_count": 2,
     "metadata": {},
     "output_type": "execute_result"
    }
   ],
   "source": [
    "df = pd.read_csv('201912-baywheels-tripdata.csv')\n",
    "df.head()"
   ]
  },
  {
   "cell_type": "code",
   "execution_count": 3,
   "metadata": {},
   "outputs": [
    {
     "name": "stdout",
     "output_type": "stream",
     "text": [
      "<class 'pandas.core.frame.DataFrame'>\n",
      "RangeIndex: 150102 entries, 0 to 150101\n",
      "Data columns (total 14 columns):\n",
      " #   Column                   Non-Null Count   Dtype  \n",
      "---  ------                   --------------   -----  \n",
      " 0   duration_sec             150102 non-null  int64  \n",
      " 1   start_time               150102 non-null  object \n",
      " 2   end_time                 150102 non-null  object \n",
      " 3   start_station_id         129083 non-null  float64\n",
      " 4   start_station_name       129087 non-null  object \n",
      " 5   start_station_latitude   150102 non-null  float64\n",
      " 6   start_station_longitude  150102 non-null  float64\n",
      " 7   end_station_id           128755 non-null  float64\n",
      " 8   end_station_name         128757 non-null  object \n",
      " 9   end_station_latitude     150102 non-null  float64\n",
      " 10  end_station_longitude    150102 non-null  float64\n",
      " 11  bike_id                  150102 non-null  int64  \n",
      " 12  user_type                150102 non-null  object \n",
      " 13  rental_access_method     27681 non-null   object \n",
      "dtypes: float64(6), int64(2), object(6)\n",
      "memory usage: 16.0+ MB\n"
     ]
    }
   ],
   "source": [
    "df.info()"
   ]
  },
  {
   "cell_type": "code",
   "execution_count": 4,
   "metadata": {},
   "outputs": [
    {
     "data": {
      "text/plain": [
       "duration_sec                    0\n",
       "start_time                      0\n",
       "end_time                        0\n",
       "start_station_id            21019\n",
       "start_station_name          21015\n",
       "start_station_latitude          0\n",
       "start_station_longitude         0\n",
       "end_station_id              21347\n",
       "end_station_name            21345\n",
       "end_station_latitude            0\n",
       "end_station_longitude           0\n",
       "bike_id                         0\n",
       "user_type                       0\n",
       "rental_access_method       122421\n",
       "dtype: int64"
      ]
     },
     "execution_count": 4,
     "metadata": {},
     "output_type": "execute_result"
    }
   ],
   "source": [
    "df.isnull().sum()"
   ]
  },
  {
   "cell_type": "code",
   "execution_count": 5,
   "metadata": {},
   "outputs": [
    {
     "name": "stdout",
     "output_type": "stream",
     "text": [
      "<class 'pandas.core.frame.DataFrame'>\n",
      "Int64Index: 125634 entries, 0 to 149779\n",
      "Data columns (total 14 columns):\n",
      " #   Column                   Non-Null Count   Dtype  \n",
      "---  ------                   --------------   -----  \n",
      " 0   duration_sec             125634 non-null  int64  \n",
      " 1   start_time               125634 non-null  object \n",
      " 2   end_time                 125634 non-null  object \n",
      " 3   start_station_id         125634 non-null  float64\n",
      " 4   start_station_name       125634 non-null  object \n",
      " 5   start_station_latitude   125634 non-null  float64\n",
      " 6   start_station_longitude  125634 non-null  float64\n",
      " 7   end_station_id           125634 non-null  float64\n",
      " 8   end_station_name         125634 non-null  object \n",
      " 9   end_station_latitude     125634 non-null  float64\n",
      " 10  end_station_longitude    125634 non-null  float64\n",
      " 11  bike_id                  125634 non-null  int64  \n",
      " 12  user_type                125634 non-null  object \n",
      " 13  rental_access_method     3213 non-null    object \n",
      "dtypes: float64(6), int64(2), object(6)\n",
      "memory usage: 14.4+ MB\n"
     ]
    }
   ],
   "source": [
    "# Remove rows where start or end station id is null \n",
    "df_new = df[(df['start_station_id'].isnull()== False) & (df['end_station_id'].isnull()== False) ]\n",
    "df_new.info()"
   ]
  },
  {
   "cell_type": "code",
   "execution_count": 6,
   "metadata": {},
   "outputs": [
    {
     "name": "stdout",
     "output_type": "stream",
     "text": [
      "<class 'pandas.core.frame.DataFrame'>\n",
      "Int64Index: 125634 entries, 0 to 149779\n",
      "Data columns (total 14 columns):\n",
      " #   Column                   Non-Null Count   Dtype         \n",
      "---  ------                   --------------   -----         \n",
      " 0   duration_sec             125634 non-null  int64         \n",
      " 1   start_time               125634 non-null  datetime64[ns]\n",
      " 2   end_time                 125634 non-null  datetime64[ns]\n",
      " 3   start_station_id         125634 non-null  float64       \n",
      " 4   start_station_name       125634 non-null  object        \n",
      " 5   start_station_latitude   125634 non-null  float64       \n",
      " 6   start_station_longitude  125634 non-null  float64       \n",
      " 7   end_station_id           125634 non-null  float64       \n",
      " 8   end_station_name         125634 non-null  object        \n",
      " 9   end_station_latitude     125634 non-null  float64       \n",
      " 10  end_station_longitude    125634 non-null  float64       \n",
      " 11  bike_id                  125634 non-null  int64         \n",
      " 12  user_type                125634 non-null  object        \n",
      " 13  rental_access_method     3213 non-null    object        \n",
      "dtypes: datetime64[ns](2), float64(6), int64(2), object(4)\n",
      "memory usage: 14.4+ MB\n"
     ]
    },
    {
     "name": "stderr",
     "output_type": "stream",
     "text": [
      "E:\\Anaconda\\lib\\site-packages\\ipykernel_launcher.py:2: SettingWithCopyWarning: \n",
      "A value is trying to be set on a copy of a slice from a DataFrame.\n",
      "Try using .loc[row_indexer,col_indexer] = value instead\n",
      "\n",
      "See the caveats in the documentation: https://pandas.pydata.org/pandas-docs/stable/user_guide/indexing.html#returning-a-view-versus-a-copy\n",
      "  \n",
      "E:\\Anaconda\\lib\\site-packages\\ipykernel_launcher.py:3: SettingWithCopyWarning: \n",
      "A value is trying to be set on a copy of a slice from a DataFrame.\n",
      "Try using .loc[row_indexer,col_indexer] = value instead\n",
      "\n",
      "See the caveats in the documentation: https://pandas.pydata.org/pandas-docs/stable/user_guide/indexing.html#returning-a-view-versus-a-copy\n",
      "  This is separate from the ipykernel package so we can avoid doing imports until\n"
     ]
    }
   ],
   "source": [
    "#convert start and ed time from string to datetime\n",
    "df_new['start_time']= pd.to_datetime(df_new['start_time'])\n",
    "df_new['end_time']= pd.to_datetime(df_new['end_time'])\n",
    "df_new.info()"
   ]
  },
  {
   "cell_type": "code",
   "execution_count": 7,
   "metadata": {},
   "outputs": [
    {
     "data": {
      "text/plain": [
       "0"
      ]
     },
     "execution_count": 7,
     "metadata": {},
     "output_type": "execute_result"
    }
   ],
   "source": [
    "df_new.duplicated().sum()"
   ]
  },
  {
   "cell_type": "code",
   "execution_count": 8,
   "metadata": {
    "scrolled": true
   },
   "outputs": [
    {
     "name": "stderr",
     "output_type": "stream",
     "text": [
      "E:\\Anaconda\\lib\\site-packages\\ipykernel_launcher.py:1: SettingWithCopyWarning: \n",
      "A value is trying to be set on a copy of a slice from a DataFrame.\n",
      "Try using .loc[row_indexer,col_indexer] = value instead\n",
      "\n",
      "See the caveats in the documentation: https://pandas.pydata.org/pandas-docs/stable/user_guide/indexing.html#returning-a-view-versus-a-copy\n",
      "  \"\"\"Entry point for launching an IPython kernel.\n"
     ]
    },
    {
     "data": {
      "text/html": [
       "<div>\n",
       "<style scoped>\n",
       "    .dataframe tbody tr th:only-of-type {\n",
       "        vertical-align: middle;\n",
       "    }\n",
       "\n",
       "    .dataframe tbody tr th {\n",
       "        vertical-align: top;\n",
       "    }\n",
       "\n",
       "    .dataframe thead th {\n",
       "        text-align: right;\n",
       "    }\n",
       "</style>\n",
       "<table border=\"1\" class=\"dataframe\">\n",
       "  <thead>\n",
       "    <tr style=\"text-align: right;\">\n",
       "      <th></th>\n",
       "      <th>duration_sec</th>\n",
       "      <th>start_time</th>\n",
       "      <th>end_time</th>\n",
       "      <th>start_station_id</th>\n",
       "      <th>start_station_name</th>\n",
       "      <th>start_station_latitude</th>\n",
       "      <th>start_station_longitude</th>\n",
       "      <th>end_station_id</th>\n",
       "      <th>end_station_name</th>\n",
       "      <th>end_station_latitude</th>\n",
       "      <th>end_station_longitude</th>\n",
       "      <th>bike_id</th>\n",
       "      <th>user_type</th>\n",
       "      <th>rental_access_method</th>\n",
       "      <th>start_hour</th>\n",
       "      <th>start_month</th>\n",
       "      <th>weekday</th>\n",
       "    </tr>\n",
       "  </thead>\n",
       "  <tbody>\n",
       "    <tr>\n",
       "      <th>0</th>\n",
       "      <td>66600</td>\n",
       "      <td>2019-12-31 14:28:50.286</td>\n",
       "      <td>2020-01-01 08:58:51.250</td>\n",
       "      <td>364.0</td>\n",
       "      <td>China Basin St at 3rd St</td>\n",
       "      <td>37.772000</td>\n",
       "      <td>-122.389970</td>\n",
       "      <td>349.0</td>\n",
       "      <td>Howard St at Mary St</td>\n",
       "      <td>37.78101</td>\n",
       "      <td>-122.405666</td>\n",
       "      <td>12085</td>\n",
       "      <td>Customer</td>\n",
       "      <td>NaN</td>\n",
       "      <td>14</td>\n",
       "      <td>12</td>\n",
       "      <td>Tuesday</td>\n",
       "    </tr>\n",
       "    <tr>\n",
       "      <th>1</th>\n",
       "      <td>36526</td>\n",
       "      <td>2019-12-31 21:52:47.762</td>\n",
       "      <td>2020-01-01 08:01:33.932</td>\n",
       "      <td>38.0</td>\n",
       "      <td>The Embarcadero at Pier 38</td>\n",
       "      <td>37.782926</td>\n",
       "      <td>-122.387921</td>\n",
       "      <td>410.0</td>\n",
       "      <td>Illinois St at Cesar Chavez St</td>\n",
       "      <td>37.75020</td>\n",
       "      <td>-122.386567</td>\n",
       "      <td>9477</td>\n",
       "      <td>Customer</td>\n",
       "      <td>NaN</td>\n",
       "      <td>21</td>\n",
       "      <td>12</td>\n",
       "      <td>Tuesday</td>\n",
       "    </tr>\n",
       "  </tbody>\n",
       "</table>\n",
       "</div>"
      ],
      "text/plain": [
       "   duration_sec              start_time                end_time  \\\n",
       "0         66600 2019-12-31 14:28:50.286 2020-01-01 08:58:51.250   \n",
       "1         36526 2019-12-31 21:52:47.762 2020-01-01 08:01:33.932   \n",
       "\n",
       "   start_station_id          start_station_name  start_station_latitude  \\\n",
       "0             364.0    China Basin St at 3rd St               37.772000   \n",
       "1              38.0  The Embarcadero at Pier 38               37.782926   \n",
       "\n",
       "   start_station_longitude  end_station_id                end_station_name  \\\n",
       "0              -122.389970           349.0            Howard St at Mary St   \n",
       "1              -122.387921           410.0  Illinois St at Cesar Chavez St   \n",
       "\n",
       "   end_station_latitude  end_station_longitude  bike_id user_type  \\\n",
       "0              37.78101            -122.405666    12085  Customer   \n",
       "1              37.75020            -122.386567     9477  Customer   \n",
       "\n",
       "  rental_access_method  start_hour  start_month  weekday  \n",
       "0                  NaN          14           12  Tuesday  \n",
       "1                  NaN          21           12  Tuesday  "
      ]
     },
     "execution_count": 8,
     "metadata": {},
     "output_type": "execute_result"
    }
   ],
   "source": [
    "df_new['start_hour'],df_new['start_month'],df_new['weekday'] = df_new['start_time'].dt.hour, df_new['start_time'].dt.month, df_new['start_time'].dt.day_name()\n",
    "df_new.head(2)"
   ]
  },
  {
   "cell_type": "markdown",
   "metadata": {},
   "source": [
    "### What is the structure of your dataset?\n",
    "\n",
    "The dataset 's size is 125634 rows . The dataset contained features about: how long the trip took in seconds\n",
    "and  start/end date/time for the bike rides and also some info about the stations:the start/end station, the station's name and  location.Also we have some customer data including the bike id and the user type .\n",
    "There is no duplicates and the rows that has no nfo about the stations were deleted.\n",
    "I also made new columns for month ,year and day of the ride to make more exploration later.\n",
    "\n",
    "### What is/are the main feature(s) of interest in your dataset?\n",
    "\n",
    "I am interested to explore whether trips taken in the weekend are more ?and is there a certain day more prefered than other? what are The average duration of trips?and how the type of user (subscriber,customer) affect the data?Also how the rental access method affect the trips?\n",
    "### What features in the dataset do you think will help support your investigation into your feature(s) of interest?\n",
    "\n",
    "start_time,duration_sec and user_type"
   ]
  },
  {
   "cell_type": "code",
   "execution_count": 30,
   "metadata": {},
   "outputs": [],
   "source": [
    "def log_trans(x,inverse=False):\n",
    "    \"\"\" function for computing log and power operations \"\"\"\n",
    "    if not inverse:\n",
    "        return np.log10(x)\n",
    "    else:\n",
    "        return np.power(10, x)"
   ]
  },
  {
   "cell_type": "markdown",
   "metadata": {},
   "source": [
    "## Univariate Exploration\n"
   ]
  },
  {
   "cell_type": "markdown",
   "metadata": {},
   "source": [
    "### Average duration\n"
   ]
  },
  {
   "cell_type": "code",
   "execution_count": 9,
   "metadata": {},
   "outputs": [
    {
     "data": {
      "text/plain": [
       "(0, 86230)"
      ]
     },
     "execution_count": 9,
     "metadata": {},
     "output_type": "execute_result"
    },
    {
     "data": {
      "image/png": "[encoded data removed]",
      "text/plain": [
       "<Figure size 432x288 with 1 Axes>"
      ]
     },
     "metadata": {
      "needs_background": "light"
     },
     "output_type": "display_data"
    }
   ],
   "source": [
    "#histogram of duration and the big pin size since it is measure in seconds\n",
    "binsize=10\n",
    "bins = np.arange(0, df_new['duration_sec'].max()+binsize, binsize)\n",
    "plt.hist(data = df_new, x = 'duration_sec', bins = bins)\n",
    "plt.xlim([0, df_new['duration_sec'].max()])"
   ]
  },
  {
   "cell_type": "code",
   "execution_count": 10,
   "metadata": {},
   "outputs": [
    {
     "data": {
      "text/plain": [
       "count    125634.000000\n",
       "mean        784.006567\n",
       "std        1828.238272\n",
       "min          61.000000\n",
       "25%         365.000000\n",
       "50%         575.000000\n",
       "75%         881.000000\n",
       "max       86230.000000\n",
       "Name: duration_sec, dtype: float64"
      ]
     },
     "execution_count": 10,
     "metadata": {},
     "output_type": "execute_result"
    }
   ],
   "source": [
    "df_new['duration_sec'].describe()"
   ]
  },
  {
   "cell_type": "code",
   "execution_count": 11,
   "metadata": {},
   "outputs": [
    {
     "data": {
      "text/plain": [
       "(array([   60,   200,   300,   500,   700,   900,  2000, 10000, 20000,\n",
       "        50000, 90000]),\n",
       " <a list of 11 Text xticklabel objects>)"
      ]
     },
     "execution_count": 11,
     "metadata": {},
     "output_type": "execute_result"
    },
    {
     "data": {
      "image/png": "[encoded data removed]",
      "text/plain": [
       "<Figure size 432x288 with 1 Axes>"
      ]
     },
     "metadata": {
      "needs_background": "light"
     },
     "output_type": "display_data"
    }
   ],
   "source": [
    "log_binsize = 0.025\n",
    "bins = 10 ** np.arange(0, np.log10(df_new['duration_sec'].max())+log_binsize, log_binsize)\n",
    "\n",
    "plt.hist(data = df_new, x = 'duration_sec', bins = bins)\n",
    "plt.xscale('log')\n",
    "plt.xlim([60,86300])\n",
    "plt.xticks([60, 200, 300, 500, 700, 900, 2000, 10000, 20000, 50000, 90000], [60, 200, 300, 500, 700, 900, 2000, 10000, 20000, 50000, 90000]);\n",
    "plt.xlabel('Duration (s)');\n",
    "plt.xticks(rotation=90)"
   ]
  },
  {
   "cell_type": "code",
   "execution_count": 12,
   "metadata": {},
   "outputs": [
    {
     "data": {
      "text/plain": [
       "count    101699.000000\n",
       "mean        512.005379\n",
       "std         228.260644\n",
       "min          61.000000\n",
       "25%         328.000000\n",
       "50%         489.000000\n",
       "75%         686.000000\n",
       "max         999.000000\n",
       "Name: duration_sec, dtype: float64"
      ]
     },
     "execution_count": 12,
     "metadata": {},
     "output_type": "execute_result"
    }
   ],
   "source": [
    "df_new=df_new[df_new['duration_sec']<1000]\n",
    "df_new['duration_sec'].describe()"
   ]
  },
  {
   "cell_type": "markdown",
   "metadata": {},
   "source": [
    ">The distribution of the duration was a little right skewed with a long tail.\n",
    "so i did a log transformation and after it the distrubtion was close to a normal one but with still exsited an outlier at the end so i cleaned it .\n",
    "The average duration of the trip is about 500 sec.\n"
   ]
  },
  {
   "cell_type": "markdown",
   "metadata": {},
   "source": [
    "### User type"
   ]
  },
  {
   "cell_type": "code",
   "execution_count": 13,
   "metadata": {
    "scrolled": true
   },
   "outputs": [
    {
     "data": {
      "text/plain": [
       "<matplotlib.axes._subplots.AxesSubplot at 0x23406aa3248>"
      ]
     },
     "execution_count": 13,
     "metadata": {},
     "output_type": "execute_result"
    },
    {
     "data": {
      "image/png": "[encoded data removed]",
      "text/plain": [
       "<Figure size 432x288 with 1 Axes>"
      ]
     },
     "metadata": {
      "needs_background": "light"
     },
     "output_type": "display_data"
    }
   ],
   "source": [
    "default_color = sb.color_palette()[0]\n",
    "sb.countplot(data = df_new, x = 'user_type', color = default_color)"
   ]
  },
  {
   "cell_type": "markdown",
   "metadata": {},
   "source": [
    ">As seen,The number of customer is slightly bigger than that of  sucscribers ."
   ]
  },
  {
   "cell_type": "markdown",
   "metadata": {},
   "source": [
    "### Time(Month,Day ,hour)"
   ]
  },
  {
   "cell_type": "code",
   "execution_count": 14,
   "metadata": {},
   "outputs": [
    {
     "data": {
      "text/plain": [
       "<matplotlib.axes._subplots.AxesSubplot at 0x23406a3a648>"
      ]
     },
     "execution_count": 14,
     "metadata": {},
     "output_type": "execute_result"
    },
    {
     "data": {
      "image/png": "[encoded data removed]",
      "text/plain": [
       "<Figure size 432x288 with 1 Axes>"
      ]
     },
     "metadata": {
      "needs_background": "light"
     },
     "output_type": "display_data"
    }
   ],
   "source": [
    "sb.countplot(data = df_new, x = 'weekday', color = default_color)"
   ]
  },
  {
   "cell_type": "code",
   "execution_count": 15,
   "metadata": {},
   "outputs": [
    {
     "data": {
      "text/plain": [
       "<matplotlib.axes._subplots.AxesSubplot at 0x234069c3d48>"
      ]
     },
     "execution_count": 15,
     "metadata": {},
     "output_type": "execute_result"
    },
    {
     "data": {
      "image/png": "[encoded data removed]",
      "text/plain": [
       "<Figure size 432x288 with 1 Axes>"
      ]
     },
     "metadata": {
      "needs_background": "light"
     },
     "output_type": "display_data"
    }
   ],
   "source": [
    "sb.countplot(data = df_new, x = 'start_month', color = default_color)"
   ]
  },
  {
   "cell_type": "code",
   "execution_count": 16,
   "metadata": {},
   "outputs": [
    {
     "data": {
      "text/html": [
       "<div>\n",
       "<style scoped>\n",
       "    .dataframe tbody tr th:only-of-type {\n",
       "        vertical-align: middle;\n",
       "    }\n",
       "\n",
       "    .dataframe tbody tr th {\n",
       "        vertical-align: top;\n",
       "    }\n",
       "\n",
       "    .dataframe thead th {\n",
       "        text-align: right;\n",
       "    }\n",
       "</style>\n",
       "<table border=\"1\" class=\"dataframe\">\n",
       "  <thead>\n",
       "    <tr style=\"text-align: right;\">\n",
       "      <th></th>\n",
       "      <th>duration_sec</th>\n",
       "      <th>start_time</th>\n",
       "      <th>end_time</th>\n",
       "      <th>start_station_id</th>\n",
       "      <th>start_station_name</th>\n",
       "      <th>start_station_latitude</th>\n",
       "      <th>start_station_longitude</th>\n",
       "      <th>end_station_id</th>\n",
       "      <th>end_station_name</th>\n",
       "      <th>end_station_latitude</th>\n",
       "      <th>end_station_longitude</th>\n",
       "      <th>bike_id</th>\n",
       "      <th>user_type</th>\n",
       "      <th>rental_access_method</th>\n",
       "      <th>start_hour</th>\n",
       "      <th>weekday</th>\n",
       "    </tr>\n",
       "  </thead>\n",
       "  <tbody>\n",
       "    <tr>\n",
       "      <th>25</th>\n",
       "      <td>781</td>\n",
       "      <td>2019-12-31 23:56:40.324</td>\n",
       "      <td>2020-01-01 00:09:41.545</td>\n",
       "      <td>23.0</td>\n",
       "      <td>The Embarcadero at Steuart St</td>\n",
       "      <td>37.791464</td>\n",
       "      <td>-122.391034</td>\n",
       "      <td>23.0</td>\n",
       "      <td>The Embarcadero at Steuart St</td>\n",
       "      <td>37.791464</td>\n",
       "      <td>-122.391034</td>\n",
       "      <td>11020</td>\n",
       "      <td>Customer</td>\n",
       "      <td>NaN</td>\n",
       "      <td>23</td>\n",
       "      <td>Tuesday</td>\n",
       "    </tr>\n",
       "  </tbody>\n",
       "</table>\n",
       "</div>"
      ],
      "text/plain": [
       "    duration_sec              start_time                end_time  \\\n",
       "25           781 2019-12-31 23:56:40.324 2020-01-01 00:09:41.545   \n",
       "\n",
       "    start_station_id             start_station_name  start_station_latitude  \\\n",
       "25              23.0  The Embarcadero at Steuart St               37.791464   \n",
       "\n",
       "    start_station_longitude  end_station_id               end_station_name  \\\n",
       "25              -122.391034            23.0  The Embarcadero at Steuart St   \n",
       "\n",
       "    end_station_latitude  end_station_longitude  bike_id user_type  \\\n",
       "25             37.791464            -122.391034    11020  Customer   \n",
       "\n",
       "   rental_access_method  start_hour  weekday  \n",
       "25                  NaN          23  Tuesday  "
      ]
     },
     "execution_count": 16,
     "metadata": {},
     "output_type": "execute_result"
    }
   ],
   "source": [
    "df_new.drop(['start_month'],inplace=True,axis=1)\n",
    "df_new.head(1)"
   ]
  },
  {
   "cell_type": "code",
   "execution_count": 17,
   "metadata": {
    "scrolled": true
   },
   "outputs": [
    {
     "data": {
      "text/plain": [
       "<matplotlib.axes._subplots.AxesSubplot at 0x234069356c8>"
      ]
     },
     "execution_count": 17,
     "metadata": {},
     "output_type": "execute_result"
    },
    {
     "data": {
      "image/png": "[encoded data removed]",
      "text/plain": [
       "<Figure size 432x288 with 1 Axes>"
      ]
     },
     "metadata": {
      "needs_background": "light"
     },
     "output_type": "display_data"
    }
   ],
   "source": [
    "sb.countplot(data = df_new, x = 'start_hour', color = default_color)"
   ]
  },
  {
   "cell_type": "markdown",
   "metadata": {},
   "source": [
    ">After exploring the exact day,month,hour of trips :\n",
    "\n",
    "All data was recorded in december 2019 so that's why i dropped the column because it s no longer useful.                       \n",
    "\n",
    "We see an increase in the number of rides during weekdays compared to weekends(Saturday,Sunday) which makes sense.\n",
    "\n",
    "We also see that most of the rides start at 8 a.m or 5 p.m ,which are the times where most of people go and return from work.\n",
    "\n"
   ]
  },
  {
   "cell_type": "markdown",
   "metadata": {},
   "source": [
    "### Rental access method"
   ]
  },
  {
   "cell_type": "code",
   "execution_count": 18,
   "metadata": {
    "scrolled": true
   },
   "outputs": [
    {
     "data": {
      "text/plain": [
       "<matplotlib.axes._subplots.AxesSubplot at 0x234068553c8>"
      ]
     },
     "execution_count": 18,
     "metadata": {},
     "output_type": "execute_result"
    },
    {
     "data": {
      "image/png": "[encoded data removed]",
      "text/plain": [
       "<Figure size 432x288 with 1 Axes>"
      ]
     },
     "metadata": {
      "needs_background": "light"
     },
     "output_type": "display_data"
    }
   ],
   "source": [
    "sb.countplot(data = df_new, x = 'rental_access_method', color = default_color)"
   ]
  },
  {
   "cell_type": "markdown",
   "metadata": {},
   "source": [
    ">The rental access method most used is clearly the app."
   ]
  },
  {
   "cell_type": "markdown",
   "metadata": {},
   "source": [
    "## Bivariate Exploration\n",
    "\n"
   ]
  },
  {
   "cell_type": "code",
   "execution_count": 32,
   "metadata": {},
   "outputs": [],
   "source": [
    "\n",
    "categoric_vars = ['weekday', 'start_hour', 'user_type','rental_access_method']\n",
    "df_new['duration_log']=df_new['duration_sec'].apply(log_trans)"
   ]
  },
  {
   "cell_type": "markdown",
   "metadata": {},
   "source": [
    "### Relation between trip duration and other categorial variables\n"
   ]
  },
  {
   "cell_type": "code",
   "execution_count": 34,
   "metadata": {},
   "outputs": [
    {
     "data": {
      "image/png": "[encoded data removed]",
      "text/plain": [
       "<Figure size 432x288 with 1 Axes>"
      ]
     },
     "metadata": {
      "needs_background": "light"
     },
     "output_type": "display_data"
    },
    {
     "data": {
      "image/png": "[encoded data removed]",
      "text/plain": [
       "<Figure size 432x288 with 1 Axes>"
      ]
     },
     "metadata": {
      "needs_background": "light"
     },
     "output_type": "display_data"
    },
    {
     "data": {
      "image/png": "[encoded data removed]",
      "text/plain": [
       "<Figure size 432x288 with 1 Axes>"
      ]
     },
     "metadata": {
      "needs_background": "light"
     },
     "output_type": "display_data"
    },
    {
     "data": {
      "image/png": "[encoded data removed]",
      "text/plain": [
       "<Figure size 432x288 with 1 Axes>"
      ]
     },
     "metadata": {
      "needs_background": "light"
     },
     "output_type": "display_data"
    }
   ],
   "source": [
    " for var in categoric_vars:\n",
    "        sb.boxplot(data = df_new, x = var, y = 'duration_sec',color = default_color)\n",
    "        plt.show()\n",
    "        "
   ]
  },
  {
   "cell_type": "markdown",
   "metadata": {},
   "source": [
    ">\n",
    "###### Bike rides duration on weekends is slightly less than those of weekdays .                                              \n",
    "###### Bikers with rental method \"app\" have longer rides compared to  those whose rental method is clipper.                           "
   ]
  },
  {
   "cell_type": "code",
   "execution_count": 21,
   "metadata": {},
   "outputs": [
    {
     "data": {
      "text/plain": [
       "<matplotlib.axes._subplots.AxesSubplot at 0x23405d9a9c8>"
      ]
     },
     "execution_count": 21,
     "metadata": {},
     "output_type": "execute_result"
    },
    {
     "data": {
      "image/png": "[encoded data removed]",
      "text/plain": [
       "<Figure size 720x720 with 1 Axes>"
      ]
     },
     "metadata": {
      "needs_background": "light"
     },
     "output_type": "display_data"
    }
   ],
   "source": [
    "plt.figure(figsize=(10,10))\n",
    "sb.countplot(data = df_new, x = 'start_hour', hue = 'weekday')\n"
   ]
  },
  {
   "cell_type": "markdown",
   "metadata": {},
   "source": [
    ">Tuesday , 8 a.m has the biggest number of rides.\n"
   ]
  },
  {
   "cell_type": "code",
   "execution_count": 29,
   "metadata": {},
   "outputs": [
    {
     "data": {
      "image/png": "[encoded data removed]",
      "text/plain": [
       "<Figure size 432x288 with 1 Axes>"
      ]
     },
     "metadata": {
      "needs_background": "light"
     },
     "output_type": "display_data"
    }
   ],
   "source": [
    "sb.countplot(data = df_new, x = 'weekday', hue = 'user_type');\n"
   ]
  },
  {
   "cell_type": "markdown",
   "metadata": {},
   "source": [
    ">Tuesday and Monday has the most rides of both customers and subscribers ."
   ]
  },
  {
   "cell_type": "code",
   "execution_count": 35,
   "metadata": {},
   "outputs": [
    {
     "data": {
      "image/png": "[encoded data removed]",
      "text/plain": [
       "<Figure size 432x288 with 1 Axes>"
      ]
     },
     "metadata": {
      "needs_background": "light"
     },
     "output_type": "display_data"
    }
   ],
   "source": [
    "sb.countplot(data = df_new, x = 'start_hour', hue = 'user_type');"
   ]
  },
  {
   "cell_type": "markdown",
   "metadata": {},
   "source": [
    "### Talk about some of the relationships you observed in this part of the investigation. How did the feature(s) of interest vary with other features in the dataset?\n",
    "\n",
    "> Bike rides duration on weekends is slightly less than those of weekdays .                                              \n",
    " Bikers with rental method \"app\" have longer rides compared to  those whose rental method is clipper.  \n",
    "Tuesday , 8 a.m has the biggest number of rides.\n",
    "Tuesday and Monday has the most rides of both customers and subscribers \n"
   ]
  },
  {
   "cell_type": "markdown",
   "metadata": {},
   "source": [
    "## Multivariate Exploration\n",
    "\n",
    "> Create plots of three or more variables to investigate your data even\n",
    "further. Make sure that your investigations are justified, and follow from\n",
    "your work in the previous sections."
   ]
  },
  {
   "cell_type": "code",
   "execution_count": 41,
   "metadata": {
    "scrolled": true
   },
   "outputs": [
    {
     "data": {
      "text/plain": [
       "<matplotlib.axes._subplots.AxesSubplot at 0x234071922c8>"
      ]
     },
     "execution_count": 41,
     "metadata": {},
     "output_type": "execute_result"
    },
    {
     "data": {
      "image/png": "[encoded data removed]",
      "text/plain": [
       "<Figure size 432x288 with 1 Axes>"
      ]
     },
     "metadata": {
      "needs_background": "light"
     },
     "output_type": "display_data"
    }
   ],
   "source": [
    "sb.pointplot(data = df_new, x = 'weekday', y = 'duration_sec', hue = 'user_type', linestyles = \"\", dodge = 0.4)"
   ]
  },
  {
   "cell_type": "markdown",
   "metadata": {},
   "source": [
    ">We see that customers have longer rides than subscribers.\n",
    "Subscribres have short rides on weekends compared to other days."
   ]
  },
  {
   "cell_type": "code",
   "execution_count": 56,
   "metadata": {},
   "outputs": [
    {
     "data": {
      "text/plain": [
       "<matplotlib.axes._subplots.AxesSubplot at 0x2340bef4c88>"
      ]
     },
     "execution_count": 56,
     "metadata": {},
     "output_type": "execute_result"
    },
    {
     "data": {
      "image/png": "[encoded data removed]",
      "text/plain": [
       "<Figure size 432x288 with 1 Axes>"
      ]
     },
     "metadata": {
      "needs_background": "light"
     },
     "output_type": "display_data"
    }
   ],
   "source": [
    "sb.pointplot(data = df_new, x = 'weekday', y = 'duration_sec', hue = 'rental_access_method', linestyles = \"\", dodge = 0.4)"
   ]
  },
  {
   "cell_type": "markdown",
   "metadata": {},
   "source": [
    ">Bikers who rent using app show approximately equal trip durations across different days of the week.However those whose rental_access_method is clipper ,their trip durations is widely varied."
   ]
  },
  {
   "cell_type": "code",
   "execution_count": 54,
   "metadata": {},
   "outputs": [
    {
     "data": {
      "text/plain": [
       "Text(0.5, 1, 'Subscriber')"
      ]
     },
     "execution_count": 54,
     "metadata": {},
     "output_type": "execute_result"
    },
    {
     "data": {
      "image/png": "[encoded data removed]",
      "text/plain": [
       "<Figure size 720x720 with 4 Axes>"
      ]
     },
     "metadata": {
      "needs_background": "light"
     },
     "output_type": "display_data"
    }
   ],
   "source": [
    "plt.figure(figsize=(10,10))\n",
    "plt.subplot(2, 1, 1)\n",
    "customers = df_new[df_new['user_type'] == \"Customer\"]\n",
    "ct_counts = customers.groupby(['start_hour', 'weekday']).size()\n",
    "ct_counts = ct_counts.reset_index(name='count')\n",
    "ct_counts = ct_counts.pivot(index='start_hour', columns='weekday', values='count')\n",
    "sb.heatmap(ct_counts)\n",
    "plt.title('Customer')\n",
    "plt.subplot(2, 1, 2)\n",
    "customers = df_new[df_new['user_type'] == \"Subscriber\"]\n",
    "ct_counts = customers.groupby(['start_hour', 'weekday']).size()\n",
    "ct_counts = ct_counts.reset_index(name='count')\n",
    "ct_counts = ct_counts.pivot(index='start_hour', columns='weekday', values='count')\n",
    "sb.heatmap(ct_counts)\n",
    "plt.title('Subscriber')"
   ]
  },
  {
   "cell_type": "markdown",
   "metadata": {},
   "source": [
    ">Overall both customers and pattern does not differ much in the pattern of thei rides but we notice that on weekends,Customers appear to make rides more than Subscribers."
   ]
  },
  {
   "cell_type": "markdown",
   "metadata": {},
   "source": [
    "### Talk about some of the relationships you observed in this part of the investigation. Were there features that strengthened each other in terms of looking at your feature(s) of interest?\n",
    "\n",
    "> We see that customers have longer rides than subscribers.                                                             Subscribres have short rides on weekends compared to other days.                                                               Bikers who rent using app show approximately equal trip durations across different days of the week.However those whose rental_access_method is clipper ,their trip durations is widelly varied.                                                       Overall both customers and pattern does not differ much in the pattern of thei rides but we notice that on weekends,Customers appear to make rides more than Subscribers.\n"
   ]
  },
  {
   "cell_type": "markdown",
   "metadata": {},
   "source": [
    "> At the end of your report, make sure that you export the notebook as an\n",
    "html file from the `File > Download as... > HTML` menu. Make sure you keep\n",
    "track of where the exported file goes, so you can put it in the same folder\n",
    "as this notebook for project submission. Also, make sure you remove all of\n",
    "the quote-formatted guide notes like this one before you finish your report!"
   ]
  },
  {
   "cell_type": "code",
   "execution_count": null,
   "metadata": {},
   "outputs": [],
   "source": []
  }
 ],
 "metadata": {
  "kernelspec": {
   "display_name": "Python 3",
   "language": "python",
   "name": "python3"
  },
  "language_info": {
   "codemirror_mode": {
    "name": "ipython",
    "version": 3
   },
   "file_extension": ".py",
   "mimetype": "text/x-python",
   "name": "python",
   "nbconvert_exporter": "python",
   "pygments_lexer": "ipython3",
   "version": "3.7.6"
  }
 },
 "nbformat": 4,
 "nbformat_minor": 2
}
