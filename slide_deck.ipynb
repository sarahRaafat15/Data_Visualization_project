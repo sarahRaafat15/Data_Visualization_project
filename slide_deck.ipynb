{
 "cells": [
  {
   "cell_type": "markdown",
   "metadata": {
    "slideshow": {
     "slide_type": "slide"
    }
   },
   "source": [
    "# FORD GO BIKE Exploration \n",
    "## by Sara Raafat\n"
   ]
  },
  {
   "cell_type": "markdown",
   "metadata": {
    "slideshow": {
     "slide_type": "slide"
    }
   },
   "source": [
    "## Investigation Overview\n",
    " \n",
    "I am interested to explore whether trips taken in the weekend are more ?and is there a certain day more prefered than other?\n",
    "what are The average duration of trips?and how the type of user (subscriber,customer) affect the data?Also how the rental access method affect the trips?\n",
    "## Dataset Overview\n",
    "\n",
    " This data set includes information about individual rides made in a bike-sharing system covering the greater San Francisco Bay area.Each trip is anonymized and includes:\n",
    "\n",
    "Trip Duration (seconds)                                                                                                         \n",
    "Start Time and Date                                                                                                            \n",
    "End Time and Date                                                                                                              \n",
    "Start Station ID                                                                                                              \n",
    "Start Station Name                                                                                                             \n",
    "Start Station Latitude                                                                                                         \n",
    "Start Station Longitude                                                                                                        \n",
    "End Station ID                                                                                                                 \n",
    "End Station Name                                                                                                               \n",
    "End Station Latitude                                                                                                           \n",
    "End Station Longitude                                                                                                          \n",
    "Bike ID                                                                                                                         \n",
    "User Type (Subscriber or Customer – “Subscriber” = Member or “Customer” = Casual)"
   ]
  },
  {
   "cell_type": "code",
   "execution_count": 1,
   "metadata": {
    "slideshow": {
     "slide_type": "skip"
    }
   },
   "outputs": [],
   "source": [
    "# import all packages and set plots to be embedded inline\n",
    "import numpy as np\n",
    "import pandas as pd\n",
    "import matplotlib.pyplot as plt\n",
    "import seaborn as sb\n",
    "\n",
    "%matplotlib inline\n",
    "\n",
    "# suppress warnings from final output\n",
    "import warnings\n",
    "warnings.simplefilter(\"ignore\")"
   ]
  },
  {
   "cell_type": "code",
   "execution_count": 2,
   "metadata": {
    "slideshow": {
     "slide_type": "skip"
    }
   },
   "outputs": [
    {
     "name": "stdout",
     "output_type": "stream",
     "text": [
      "<class 'pandas.core.frame.DataFrame'>\n",
      "RangeIndex: 150102 entries, 0 to 150101\n",
      "Data columns (total 14 columns):\n",
      " #   Column                   Non-Null Count   Dtype  \n",
      "---  ------                   --------------   -----  \n",
      " 0   duration_sec             150102 non-null  int64  \n",
      " 1   start_time               150102 non-null  object \n",
      " 2   end_time                 150102 non-null  object \n",
      " 3   start_station_id         129083 non-null  float64\n",
      " 4   start_station_name       129087 non-null  object \n",
      " 5   start_station_latitude   150102 non-null  float64\n",
      " 6   start_station_longitude  150102 non-null  float64\n",
      " 7   end_station_id           128755 non-null  float64\n",
      " 8   end_station_name         128757 non-null  object \n",
      " 9   end_station_latitude     150102 non-null  float64\n",
      " 10  end_station_longitude    150102 non-null  float64\n",
      " 11  bike_id                  150102 non-null  int64  \n",
      " 12  user_type                150102 non-null  object \n",
      " 13  rental_access_method     27681 non-null   object \n",
      "dtypes: float64(6), int64(2), object(6)\n",
      "memory usage: 16.0+ MB\n"
     ]
    }
   ],
   "source": [
    "# load in the dataset into a pandas dataframe\n",
    "df = pd.read_csv('201912-baywheels-tripdata.csv')\n",
    "df.info()\n"
   ]
  },
  {
   "cell_type": "code",
   "execution_count": 3,
   "metadata": {
    "slideshow": {
     "slide_type": "skip"
    }
   },
   "outputs": [
    {
     "name": "stdout",
     "output_type": "stream",
     "text": [
      "<class 'pandas.core.frame.DataFrame'>\n",
      "Int64Index: 125634 entries, 0 to 149779\n",
      "Data columns (total 14 columns):\n",
      " #   Column                   Non-Null Count   Dtype  \n",
      "---  ------                   --------------   -----  \n",
      " 0   duration_sec             125634 non-null  int64  \n",
      " 1   start_time               125634 non-null  object \n",
      " 2   end_time                 125634 non-null  object \n",
      " 3   start_station_id         125634 non-null  float64\n",
      " 4   start_station_name       125634 non-null  object \n",
      " 5   start_station_latitude   125634 non-null  float64\n",
      " 6   start_station_longitude  125634 non-null  float64\n",
      " 7   end_station_id           125634 non-null  float64\n",
      " 8   end_station_name         125634 non-null  object \n",
      " 9   end_station_latitude     125634 non-null  float64\n",
      " 10  end_station_longitude    125634 non-null  float64\n",
      " 11  bike_id                  125634 non-null  int64  \n",
      " 12  user_type                125634 non-null  object \n",
      " 13  rental_access_method     3213 non-null    object \n",
      "dtypes: float64(6), int64(2), object(6)\n",
      "memory usage: 14.4+ MB\n"
     ]
    }
   ],
   "source": [
    "df_new = df[(df['start_station_id'].isnull()== False) & (df['end_station_id'].isnull()== False) ]\n",
    "df_new.info()"
   ]
  },
  {
   "cell_type": "code",
   "execution_count": 4,
   "metadata": {
    "slideshow": {
     "slide_type": "skip"
    }
   },
   "outputs": [],
   "source": [
    "df_new['start_time']= pd.to_datetime(df_new['start_time'])\n"
   ]
  },
  {
   "cell_type": "code",
   "execution_count": 5,
   "metadata": {
    "slideshow": {
     "slide_type": "skip"
    }
   },
   "outputs": [
    {
     "name": "stdout",
     "output_type": "stream",
     "text": [
      "<class 'pandas.core.frame.DataFrame'>\n",
      "Int64Index: 125634 entries, 0 to 149779\n",
      "Data columns (total 14 columns):\n",
      " #   Column                   Non-Null Count   Dtype  \n",
      "---  ------                   --------------   -----  \n",
      " 0   duration_sec             125634 non-null  int64  \n",
      " 1   start_time               125634 non-null  object \n",
      " 2   end_time                 125634 non-null  object \n",
      " 3   start_station_id         125634 non-null  float64\n",
      " 4   start_station_name       125634 non-null  object \n",
      " 5   start_station_latitude   125634 non-null  float64\n",
      " 6   start_station_longitude  125634 non-null  float64\n",
      " 7   end_station_id           125634 non-null  float64\n",
      " 8   end_station_name         125634 non-null  object \n",
      " 9   end_station_latitude     125634 non-null  float64\n",
      " 10  end_station_longitude    125634 non-null  float64\n",
      " 11  bike_id                  125634 non-null  int64  \n",
      " 12  user_type                125634 non-null  object \n",
      " 13  rental_access_method     3213 non-null    object \n",
      "dtypes: float64(6), int64(2), object(6)\n",
      "memory usage: 14.4+ MB\n"
     ]
    }
   ],
   "source": [
    "# Remove rows where start or end station id is null \n",
    "df_new = df[(df['start_station_id'].isnull()== False) & (df['end_station_id'].isnull()== False) ]\n",
    "df_new.info()\n"
   ]
  },
  {
   "cell_type": "code",
   "execution_count": 6,
   "metadata": {
    "slideshow": {
     "slide_type": "skip"
    }
   },
   "outputs": [
    {
     "name": "stdout",
     "output_type": "stream",
     "text": [
      "<class 'pandas.core.frame.DataFrame'>\n",
      "Int64Index: 125634 entries, 0 to 149779\n",
      "Data columns (total 14 columns):\n",
      " #   Column                   Non-Null Count   Dtype         \n",
      "---  ------                   --------------   -----         \n",
      " 0   duration_sec             125634 non-null  int64         \n",
      " 1   start_time               125634 non-null  datetime64[ns]\n",
      " 2   end_time                 125634 non-null  datetime64[ns]\n",
      " 3   start_station_id         125634 non-null  float64       \n",
      " 4   start_station_name       125634 non-null  object        \n",
      " 5   start_station_latitude   125634 non-null  float64       \n",
      " 6   start_station_longitude  125634 non-null  float64       \n",
      " 7   end_station_id           125634 non-null  float64       \n",
      " 8   end_station_name         125634 non-null  object        \n",
      " 9   end_station_latitude     125634 non-null  float64       \n",
      " 10  end_station_longitude    125634 non-null  float64       \n",
      " 11  bike_id                  125634 non-null  int64         \n",
      " 12  user_type                125634 non-null  object        \n",
      " 13  rental_access_method     3213 non-null    object        \n",
      "dtypes: datetime64[ns](2), float64(6), int64(2), object(4)\n",
      "memory usage: 14.4+ MB\n"
     ]
    }
   ],
   "source": [
    "#convert start and ed time from string to datetime\n",
    "df_new['start_time']= pd.to_datetime(df_new['start_time'])\n",
    "df_new['end_time']= pd.to_datetime(df_new['end_time'])\n",
    "df_new.info()"
   ]
  },
  {
   "cell_type": "code",
   "execution_count": 7,
   "metadata": {},
   "outputs": [
    {
     "data": {
      "text/html": [
       "<div>\n",
       "<style scoped>\n",
       "    .dataframe tbody tr th:only-of-type {\n",
       "        vertical-align: middle;\n",
       "    }\n",
       "\n",
       "    .dataframe tbody tr th {\n",
       "        vertical-align: top;\n",
       "    }\n",
       "\n",
       "    .dataframe thead th {\n",
       "        text-align: right;\n",
       "    }\n",
       "</style>\n",
       "<table border=\"1\" class=\"dataframe\">\n",
       "  <thead>\n",
       "    <tr style=\"text-align: right;\">\n",
       "      <th></th>\n",
       "      <th>duration_sec</th>\n",
       "      <th>start_time</th>\n",
       "      <th>end_time</th>\n",
       "      <th>start_station_id</th>\n",
       "      <th>start_station_name</th>\n",
       "      <th>start_station_latitude</th>\n",
       "      <th>start_station_longitude</th>\n",
       "      <th>end_station_id</th>\n",
       "      <th>end_station_name</th>\n",
       "      <th>end_station_latitude</th>\n",
       "      <th>end_station_longitude</th>\n",
       "      <th>bike_id</th>\n",
       "      <th>user_type</th>\n",
       "      <th>rental_access_method</th>\n",
       "      <th>start_hour</th>\n",
       "      <th>start_month</th>\n",
       "      <th>weekday</th>\n",
       "    </tr>\n",
       "  </thead>\n",
       "  <tbody>\n",
       "    <tr>\n",
       "      <th>0</th>\n",
       "      <td>66600</td>\n",
       "      <td>2019-12-31 14:28:50.286</td>\n",
       "      <td>2020-01-01 08:58:51.250</td>\n",
       "      <td>364.0</td>\n",
       "      <td>China Basin St at 3rd St</td>\n",
       "      <td>37.772000</td>\n",
       "      <td>-122.389970</td>\n",
       "      <td>349.0</td>\n",
       "      <td>Howard St at Mary St</td>\n",
       "      <td>37.78101</td>\n",
       "      <td>-122.405666</td>\n",
       "      <td>12085</td>\n",
       "      <td>Customer</td>\n",
       "      <td>NaN</td>\n",
       "      <td>14</td>\n",
       "      <td>12</td>\n",
       "      <td>Tuesday</td>\n",
       "    </tr>\n",
       "    <tr>\n",
       "      <th>1</th>\n",
       "      <td>36526</td>\n",
       "      <td>2019-12-31 21:52:47.762</td>\n",
       "      <td>2020-01-01 08:01:33.932</td>\n",
       "      <td>38.0</td>\n",
       "      <td>The Embarcadero at Pier 38</td>\n",
       "      <td>37.782926</td>\n",
       "      <td>-122.387921</td>\n",
       "      <td>410.0</td>\n",
       "      <td>Illinois St at Cesar Chavez St</td>\n",
       "      <td>37.75020</td>\n",
       "      <td>-122.386567</td>\n",
       "      <td>9477</td>\n",
       "      <td>Customer</td>\n",
       "      <td>NaN</td>\n",
       "      <td>21</td>\n",
       "      <td>12</td>\n",
       "      <td>Tuesday</td>\n",
       "    </tr>\n",
       "  </tbody>\n",
       "</table>\n",
       "</div>"
      ],
      "text/plain": [
       "   duration_sec              start_time                end_time  \\\n",
       "0         66600 2019-12-31 14:28:50.286 2020-01-01 08:58:51.250   \n",
       "1         36526 2019-12-31 21:52:47.762 2020-01-01 08:01:33.932   \n",
       "\n",
       "   start_station_id          start_station_name  start_station_latitude  \\\n",
       "0             364.0    China Basin St at 3rd St               37.772000   \n",
       "1              38.0  The Embarcadero at Pier 38               37.782926   \n",
       "\n",
       "   start_station_longitude  end_station_id                end_station_name  \\\n",
       "0              -122.389970           349.0            Howard St at Mary St   \n",
       "1              -122.387921           410.0  Illinois St at Cesar Chavez St   \n",
       "\n",
       "   end_station_latitude  end_station_longitude  bike_id user_type  \\\n",
       "0              37.78101            -122.405666    12085  Customer   \n",
       "1              37.75020            -122.386567     9477  Customer   \n",
       "\n",
       "  rental_access_method  start_hour  start_month  weekday  \n",
       "0                  NaN          14           12  Tuesday  \n",
       "1                  NaN          21           12  Tuesday  "
      ]
     },
     "execution_count": 7,
     "metadata": {},
     "output_type": "execute_result"
    }
   ],
   "source": [
    "df_new['start_hour'],df_new['start_month'],df_new['weekday'] = df_new['start_time'].dt.hour, df_new['start_time'].dt.month, df_new['start_time'].dt.day_name()\n",
    "df_new.head(2)"
   ]
  },
  {
   "cell_type": "markdown",
   "metadata": {
    "slideshow": {
     "slide_type": "slide"
    }
   },
   "source": [
    "## Rides on different days of the week\n",
    "\n",
    "> We see an increase in the number of rides during weekdays compared to weekends(Saturday,Sunday)"
   ]
  },
  {
   "cell_type": "code",
   "execution_count": 12,
   "metadata": {
    "slideshow": {
     "slide_type": "subslide"
    }
   },
   "outputs": [
    {
     "data": {
      "text/plain": [
       "Text(0.5, 1.0, 'Rides count on different days of the week')"
      ]
     },
     "execution_count": 12,
     "metadata": {},
     "output_type": "execute_result"
    },
    {
     "data": {
      "image/png": "[encoded data removed]",
      "text/plain": [
       "<Figure size 432x288 with 1 Axes>"
      ]
     },
     "metadata": {
      "needs_background": "light"
     },
     "output_type": "display_data"
    }
   ],
   "source": [
    "default_color = sb.color_palette()[0]\n",
    "sb.countplot(data = df_new, x = 'weekday', color = default_color)\n",
    "plt.title(\"Rides count on different days of the week\")"
   ]
  },
  {
   "cell_type": "markdown",
   "metadata": {
    "collapsed": true,
    "slideshow": {
     "slide_type": "slide"
    }
   },
   "source": [
    "## Number of rides at different times of the day\n",
    "\n",
    "> most of the rides start at 8 a.m or 5 p.m ,which are the times where most of people go and return from work"
   ]
  },
  {
   "cell_type": "code",
   "execution_count": 13,
   "metadata": {
    "slideshow": {
     "slide_type": "subslide"
    }
   },
   "outputs": [
    {
     "data": {
      "text/plain": [
       "Text(0.5, 1.0, 'Number of rides at different times of the day')"
      ]
     },
     "execution_count": 13,
     "metadata": {},
     "output_type": "execute_result"
    },
    {
     "data": {
      "image/png": "[encoded data removed]",
      "text/plain": [
       "<Figure size 432x288 with 1 Axes>"
      ]
     },
     "metadata": {
      "needs_background": "light"
     },
     "output_type": "display_data"
    }
   ],
   "source": [
    "sb.countplot(data = df_new, x = 'start_hour', color = default_color)\n",
    "plt.title(\"Number of rides at different times of the day\")"
   ]
  },
  {
   "cell_type": "markdown",
   "metadata": {
    "slideshow": {
     "slide_type": "slide"
    }
   },
   "source": [
    "## Duration of rides on different days according to the customer type\n",
    "\n",
    ">We see that customers have longer rides than subscribers. \n",
    "Subscribres have short rides on weekends compared to other days."
   ]
  },
  {
   "cell_type": "code",
   "execution_count": 14,
   "metadata": {
    "slideshow": {
     "slide_type": "subslide"
    }
   },
   "outputs": [
    {
     "data": {
      "text/plain": [
       "Text(0.5, 1.0, 'Duration of rides on different days according to the customer type')"
      ]
     },
     "execution_count": 14,
     "metadata": {},
     "output_type": "execute_result"
    },
    {
     "data": {
      "image/png": "[encoded data removed]",
      "text/plain": [
       "<Figure size 432x288 with 1 Axes>"
      ]
     },
     "metadata": {
      "needs_background": "light"
     },
     "output_type": "display_data"
    }
   ],
   "source": [
    "sb.pointplot(data = df_new, x = 'weekday', y = 'duration_sec', hue = 'user_type', linestyles = \"\", dodge = 0.4)\n",
    "plt.title(\"Duration of rides on different days according to the customer type\")"
   ]
  },
  {
   "cell_type": "code",
   "execution_count": null,
   "metadata": {},
   "outputs": [],
   "source": []
  }
 ],
 "metadata": {
  "celltoolbar": "Slideshow",
  "kernelspec": {
   "display_name": "Python 3",
   "language": "python",
   "name": "python3"
  },
  "language_info": {
   "codemirror_mode": {
    "name": "ipython",
    "version": 3
   },
   "file_extension": ".py",
   "mimetype": "text/x-python",
   "name": "python",
   "nbconvert_exporter": "python",
   "pygments_lexer": "ipython3",
   "version": "3.7.6"
  }
 },
 "nbformat": 4,
 "nbformat_minor": 2
}
